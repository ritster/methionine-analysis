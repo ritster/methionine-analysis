{
 "cells": [
  {
   "cell_type": "code",
   "execution_count": 2,
   "metadata": {},
   "outputs": [
    {
     "ename": "ModuleNotFoundError",
     "evalue": "No module named 'pandas'",
     "output_type": "error",
     "traceback": [
      "\u001b[0;31m---------------------------------------------------------------------------\u001b[0m",
      "\u001b[0;31mModuleNotFoundError\u001b[0m                       Traceback (most recent call last)",
      "Cell \u001b[0;32mIn[2], line 2\u001b[0m\n\u001b[1;32m      1\u001b[0m \u001b[38;5;28;01mimport\u001b[39;00m \u001b[38;5;21;01mnumpy\u001b[39;00m \u001b[38;5;28;01mas\u001b[39;00m \u001b[38;5;21;01mnp\u001b[39;00m\n\u001b[0;32m----> 2\u001b[0m \u001b[38;5;28;01mimport\u001b[39;00m \u001b[38;5;21;01mpandas\u001b[39;00m \u001b[38;5;28;01mas\u001b[39;00m \u001b[38;5;21;01mpd\u001b[39;00m\n\u001b[1;32m      3\u001b[0m \u001b[38;5;28;01mimport\u001b[39;00m \u001b[38;5;21;01mbiopython\u001b[39;00m \u001b[38;5;28;01mas\u001b[39;00m \u001b[38;5;21;01mbiopy\u001b[39;00m\n\u001b[1;32m      5\u001b[0m \u001b[38;5;28;01mimport\u001b[39;00m \u001b[38;5;21;01mre\u001b[39;00m\n",
      "\u001b[0;31mModuleNotFoundError\u001b[0m: No module named 'pandas'"
     ]
    }
   ],
   "source": [
    "import numpy as np\n",
    "import biopython as biopy\n",
    "import pandas as pd\n",
    "\n",
    "import re\n",
    "\n",
    "pd.options.mode.chained_assignment = None  # default='warn'"
   ]
  },
  {
   "cell_type": "code",
   "execution_count": null,
   "metadata": {},
   "outputs": [],
   "source": [
    "data_path = \"../datasets/\" # file path to data\n",
    "analysis_threshold = 10 # number of amino acids either side to analyze\n",
    "modifications = [\"655.3735\", \"649.3660\"] # which modifications we are looking for, as regex strings"
   ]
  },
  {
   "cell_type": "markdown",
   "metadata": {},
   "source": [
    "Import full `combined_modified_peptide.tsv` file import to `full_peptides` dataframe."
   ]
  },
  {
   "cell_type": "code",
   "execution_count": null,
   "metadata": {},
   "outputs": [],
   "source": [
    "full_peptides = pd.read_csv(data_path + \"combined_modified_peptide.tsv\", delimiter=\"\\t\")\n",
    "full_peptides"
   ]
  },
  {
   "cell_type": "code",
   "execution_count": null,
   "metadata": {},
   "outputs": [],
   "source": [
    "peptides = full_peptides.iloc[:, np.r_[0, 1, 8]]\n",
    "peptides"
   ]
  },
  {
   "cell_type": "markdown",
   "metadata": {},
   "source": [
    "Format canonicalization of `Assigned Modifications` column"
   ]
  },
  {
   "cell_type": "code",
   "execution_count": null,
   "metadata": {},
   "outputs": [],
   "source": [
    "peptides[\"Assigned Modifications\"] = peptides[\"Assigned Modifications\"].str.replace(\"(\", \"[\", regex=False)\n",
    "peptides[\"Assigned Modifications\"] = peptides[\"Assigned Modifications\"].str.replace(\")\", \"]\", regex=False)\n",
    "peptides"
   ]
  },
  {
   "cell_type": "code",
   "execution_count": null,
   "metadata": {},
   "outputs": [],
   "source": [
    "def modification_patterns_creation(modifications):\n",
    "\n",
    "    left_pad = r\"(([^\\]]*)\"\n",
    "    right_pad = r\"([^\\[]*))\"\n",
    "\n",
    "    internal = \"(M\\[(\"\n",
    "\n",
    "    for i in range(len(modifications)):\n",
    "        split_str = modifications[i].split(\".\")\n",
    "        whole = split_str[0]\n",
    "        mantissa = split_str[1]\n",
    "        \n",
    "        if i != (len(modifications) - 1):\n",
    "            internal += r\"{}\\.{}|\".format(whole, mantissa)\n",
    "        else:\n",
    "            internal += r\"{}\\.{}\".format(whole, mantissa)\n",
    "            internal += r\"))\\]\"\n",
    "\n",
    "    assigned_modification_pattern = internal\n",
    "    modified_sequence_pattern = left_pad + internal + right_pad\n",
    "    \n",
    "    return assigned_modification_pattern, modified_sequence_pattern\n",
    "\n",
    "assigned_modification_pattern, modified_sequence_pattern = modification_patterns_creation(modifications)\n",
    "print(assigned_modification_pattern)\n",
    "print(modified_sequence_pattern)"
   ]
  },
  {
   "cell_type": "code",
   "execution_count": null,
   "metadata": {},
   "outputs": [],
   "source": [
    "methionine_peptides = peptides[peptides[\"Assigned Modifications\"].str.contains(assigned_modification_pattern, na=False)]\n",
    "methionine_peptides"
   ]
  },
  {
   "cell_type": "code",
   "execution_count": null,
   "metadata": {},
   "outputs": [],
   "source": [
    "# confirm 1 match per sequence - TODO: ask jayde how to deal with multiple modifications in one sequence\n",
    "# methionine_peptides = methionine_peptides[methionine_peptides[\"Modified Sequence\"].str.count(modified_sequence_pattern) == 1]\n",
    "\n",
    "matches_df = methionine_peptides[\"Modified Sequence\"].str.extract(modified_sequence_pattern, expand=False)\n",
    "methionine_peptides[\"Analysis Sequence\"] = matches_df[0]\n",
    "methionine_peptides[\"Analysis Pre-Sequence\"] = matches_df[1].str[-analysis_threshold:]  # limit to previous ten amino acids\n",
    "methionine_peptides[\"Analysis Post-Sequence\"] = matches_df[4].str[:analysis_threshold]  # limit to next ten amino acids\n",
    "\n",
    "methionine_peptides"
   ]
  },
  {
   "cell_type": "code",
   "execution_count": null,
   "metadata": {},
   "outputs": [],
   "source": [
    "for i in np.arange(analysis_threshold):\n",
    "    methionine_peptides[f\"Pre-Seq {-10 + i}\"] = methionine_peptides[\"Analysis Pre-Sequence\"].str[-10 + i]\n",
    "\n",
    "for i in np.arange(analysis_threshold):\n",
    "    methionine_peptides[f\"Post-Seq {i + 1}\"] = methionine_peptides[\"Analysis Post-Sequence\"].str[i]\n",
    "\n",
    "\n",
    "display(methionine_peptides.iloc[:, np.r_[1, 3, 4, 6:16]])\n",
    "display(methionine_peptides.iloc[:, np.r_[1, 3, 5, 16:26]])"
   ]
  },
  {
   "cell_type": "code",
   "execution_count": null,
   "metadata": {},
   "outputs": [],
   "source": [
    "methionine_peptides[\"Pre-Seq -4\"].isna().sum()"
   ]
  },
  {
   "cell_type": "markdown",
   "metadata": {},
   "source": [
    "Temporary Analysis: only selecting sequences that have four on either side"
   ]
  },
  {
   "cell_type": "code",
   "execution_count": null,
   "metadata": {},
   "outputs": [],
   "source": [
    "four_analysis = methionine_peptides[(methionine_peptides[\"Pre-Seq -4\"].isna() == False) & (methionine_peptides[\"Post-Seq 4\"].isna() == False)]\n",
    "four_analysis = four_analysis.iloc[:, np.r_[:6, 12:20]]\n",
    "\n",
    "four_analysis"
   ]
  },
  {
   "cell_type": "code",
   "execution_count": null,
   "metadata": {},
   "outputs": [],
   "source": [
    "four_analysis[\"Analysis Pre-Sequence\"] = four_analysis[\"Analysis Pre-Sequence\"].str[-4:]\n",
    "four_analysis[\"Analysis Post-Sequence\"] = four_analysis[\"Analysis Post-Sequence\"].str[:4]\n",
    "four_analysis"
   ]
  },
  {
   "cell_type": "code",
   "execution_count": null,
   "metadata": {},
   "outputs": [],
   "source": []
  }
 ],
 "metadata": {
  "kernelspec": {
   "display_name": "base",
   "language": "python",
   "name": "python3"
  },
  "language_info": {
   "codemirror_mode": {
    "name": "ipython",
    "version": 3
   },
   "file_extension": ".py",
   "mimetype": "text/x-python",
   "name": "python",
   "nbconvert_exporter": "python",
   "pygments_lexer": "ipython3",
   "version": "3.11.5"
  }
 },
 "nbformat": 4,
 "nbformat_minor": 2
}
