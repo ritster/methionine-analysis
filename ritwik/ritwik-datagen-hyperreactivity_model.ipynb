{
 "cells": [
  {
   "cell_type": "markdown",
   "metadata": {},
   "source": [
    "## Imports"
   ]
  },
  {
   "cell_type": "code",
   "execution_count": null,
   "metadata": {},
   "outputs": [],
   "source": [
    "# General imports \n",
    "import pandas as pd\n",
    "import numpy as np\n",
    "import os\n",
    "import re\n",
    "import plotly.express as px\n",
    "from tqdm import tqdm\n",
    "import tempfile\n",
    "import csv\n",
    "import requests as r\n",
    "from Bio import SeqIO\n",
    "from io import StringIO\n",
    "import matplotlib.pyplot as plt\n",
    "import seaborn as sns\n",
    "import scipy\n",
    "\n",
    "\n",
    "# Import structuremap functions\n",
    "import structuremap.utils\n",
    "structuremap.utils.set_logger()\n",
    "from structuremap.processing import download_alphafold_cif, download_alphafold_pae, format_alphafold_data, annotate_accessibility, get_smooth_score, annotate_proteins_with_idr_pattern, get_extended_flexible_pattern, get_proximity_pvals, perform_enrichment_analysis, perform_enrichment_analysis_per_protein, evaluate_ptm_colocalization, extract_motifs_in_proteome\n",
    "from structuremap.plotting import plot_enrichment, plot_ptm_colocalization"
   ]
  },
  {
   "cell_type": "markdown",
   "metadata": {},
   "source": [
    "## Set Parameters of Analysis"
   ]
  },
  {
   "cell_type": "code",
   "execution_count": null,
   "metadata": {},
   "outputs": [],
   "source": [
    "analysis_threshold = 20 # number of amino acids either side to analyze\n",
    "\n",
    "modifications = [\"649.3660\", \"655.3735\"] # which modifications we are looking for, as regex strings\n",
    "heavy_modification = \"655.3735\" \n",
    "light_modification = \"649.3660\""
   ]
  },
  {
   "cell_type": "markdown",
   "metadata": {},
   "source": [
    "## Load Dataset - All Peptides"
   ]
  },
  {
   "cell_type": "code",
   "execution_count": null,
   "metadata": {},
   "outputs": [],
   "source": [
    "# path for csv output data\n",
    "datasets_path_str = \"../datasets/\"\n",
    "datasets_path = os.path.abspath(datasets_path_str)\n",
    "print(datasets_path)"
   ]
  },
  {
   "cell_type": "code",
   "execution_count": null,
   "metadata": {},
   "outputs": [],
   "source": [
    "data_loc = os.path.join(datasets_path, \"combined_modified_peptide_label_quant.tsv\")\n",
    "peptides = pd.read_csv(data_loc, delimiter=\"\\t\")\n",
    "peptides"
   ]
  },
  {
   "cell_type": "code",
   "execution_count": null,
   "metadata": {},
   "outputs": [],
   "source": [
    "ratio_df = peptides.filter(like='Log2 Ratio HL', axis=1)\n",
    "ratio_df = ratio_df.fillna(999.999)\n",
    "ratio_df"
   ]
  },
  {
   "cell_type": "code",
   "execution_count": null,
   "metadata": {},
   "outputs": [],
   "source": [
    "num_hyperreactive_instances = ratio_df[ ratio_df < 1.0 ].count(axis=1)\n",
    "num_hyperreactive_instances.value_counts()"
   ]
  },
  {
   "cell_type": "code",
   "execution_count": null,
   "metadata": {},
   "outputs": [],
   "source": [
    "peptides[\"prelim_hyperreactive\"] = num_hyperreactive_instances >= 3\n",
    "peptides"
   ]
  },
  {
   "cell_type": "code",
   "execution_count": null,
   "metadata": {},
   "outputs": [],
   "source": [
    "peptides[\"prelim_hyperreactive\"].value_counts()"
   ]
  },
  {
   "cell_type": "code",
   "execution_count": null,
   "metadata": {},
   "outputs": [],
   "source": [
    "# helper function to get full amino acid sequence for a protein\n",
    "def get_full_protein_seq(cID):\n",
    "    baseUrl=\"http://www.uniprot.org/uniprot/\"\n",
    "    currentUrl=baseUrl+cID+\".fasta\"\n",
    "    response = r.post(currentUrl)\n",
    "    cData=''.join(response.text)\n",
    "    \n",
    "    Seq=StringIO(cData)\n",
    "    pSeq=list(SeqIO.parse(Seq,\"fasta\"))\n",
    "\n",
    "    return str(pSeq[0].seq)"
   ]
  },
  {
   "cell_type": "code",
   "execution_count": null,
   "metadata": {},
   "outputs": [],
   "source": [
    "# test - get a single amino acid sequence - TODO: FIX THIS FOR THIS PARTICULAR NOTEBOOK\n",
    "#first_protein_ID = peptides[\"Protein ID\"].iloc[0]\n",
    "#test_sequence = get_full_protein_seq(first_protein_ID)\n",
    "#print(test_sequence[575:587])\n",
    "#print(peptides[\"Peptide Sequence\"].iloc[0])"
   ]
  },
  {
   "cell_type": "code",
   "execution_count": null,
   "metadata": {},
   "outputs": [],
   "source": [
    "unique_uniprot_IDs = peptides[\"Protein ID\"].unique()\n",
    "unique_uniprot_IDs, len(unique_uniprot_IDs), len(peptides[\"Protein ID\"])"
   ]
  },
  {
   "cell_type": "code",
   "execution_count": null,
   "metadata": {},
   "outputs": [],
   "source": [
    "#unique_IDs_to_sequence_df = pd.DataFrame({\"Protein ID\": unique_uniprot_IDs})\n",
    "#unique_IDs_to_sequence_df"
   ]
  },
  {
   "cell_type": "code",
   "execution_count": null,
   "metadata": {},
   "outputs": [],
   "source": [
    "# get whole amino acid sequences for methionine peptides\n",
    "# SLOW - ONLY DO THIS ONCE - CONVERT TO CSV FILE, THEN RE-LOAD FROM THAT FILE\n",
    "\n",
    "#tqdm.pandas()\n",
    "#unique_IDs_to_sequence_df[\"Complete Sequence\"] = unique_IDs_to_sequence_df[\"Protein ID\"].progress_apply(get_full_protein_seq)\n",
    "#unique_IDs_to_sequence_df"
   ]
  },
  {
   "cell_type": "code",
   "execution_count": null,
   "metadata": {},
   "outputs": [],
   "source": [
    "#peptides_completed_sequence = peptides.merge(unique_IDs_to_sequence_df, how=\"left\", on=\"Protein ID\")\n",
    "#peptides_completed_sequence"
   ]
  },
  {
   "cell_type": "code",
   "execution_count": null,
   "metadata": {},
   "outputs": [],
   "source": [
    "#peptides_completed_sequence.to_csv(os.path.join(datasets_path, \"hyperreactivity_model_completed_sequence.csv\"))"
   ]
  },
  {
   "cell_type": "code",
   "execution_count": null,
   "metadata": {},
   "outputs": [],
   "source": [
    "path = os.path.join(datasets_path, \"hyperreactivity_model_completed_sequence.csv\")\n",
    "peptides_completed_sequence = pd.read_csv(path)\n",
    "peptides_completed_sequence.set_index(\"Unnamed: 0\", inplace=True)\n",
    "peptides_completed_sequence.index.name = None\n",
    "peptides_completed_sequence"
   ]
  },
  {
   "cell_type": "code",
   "execution_count": null,
   "metadata": {},
   "outputs": [],
   "source": [
    "# create regex pattern to identify desired modifications\n",
    "def create_modifications_pattern(modifications):\n",
    "\n",
    "    split_mod = modifications[0].split(\".\")\n",
    "    whole = split_mod[0]\n",
    "    mantissa = split_mod[1]\n",
    "    pattern = r\"M\\[{}\\.{}\\]\".format(whole, mantissa)\n",
    "\n",
    "    for i in range(1, len(modifications)):\n",
    "        split_mod = modifications[i].split(\".\")\n",
    "        whole = split_mod[0]\n",
    "        mantissa = split_mod[1]\n",
    "        pattern += r\"|M\\[{}\\.{}\\]\".format(whole, mantissa)\n",
    "    \n",
    "    return pattern\n",
    "\n",
    "modifications_pattern = create_modifications_pattern(modifications)\n",
    "print(modifications_pattern)"
   ]
  },
  {
   "cell_type": "code",
   "execution_count": null,
   "metadata": {},
   "outputs": [],
   "source": [
    "peptides_completed_sequence[\"Sequence Location\"] = pd.Series([a.find(b) for a, b in zip(peptides_completed_sequence[\"Complete Sequence\"], peptides_completed_sequence[\"Peptide Sequence\"])])\n",
    "peptides_completed_sequence"
   ]
  },
  {
   "cell_type": "code",
   "execution_count": null,
   "metadata": {},
   "outputs": [],
   "source": [
    "peptides_completed_sequence[peptides_completed_sequence[\"Sequence Location\"] == -1]"
   ]
  },
  {
   "cell_type": "code",
   "execution_count": null,
   "metadata": {},
   "outputs": [],
   "source": [
    "# other sequences within the same proteins are found -> so, drop rows 313, 648, and 847 (peptides that weren't found in their protein)\n",
    "\n",
    "peptides_completed_sequence[peptides_completed_sequence[\"Protein ID\"].isin([\"P60660\", \"Q9Y2K9\", \"P08727\"])]"
   ]
  },
  {
   "cell_type": "code",
   "execution_count": null,
   "metadata": {},
   "outputs": [],
   "source": [
    "peptides_completed_sequence = peptides_completed_sequence.drop([313, 648, 847])\n",
    "peptides_completed_sequence"
   ]
  },
  {
   "cell_type": "code",
   "execution_count": null,
   "metadata": {},
   "outputs": [],
   "source": [
    "temp = [A[B:B+C] for A, B, C in zip(peptides_completed_sequence[\"Complete Sequence\"], peptides_completed_sequence[\"Sequence Location\"], peptides_completed_sequence[\"Peptide Length\"])]\n",
    "(temp == peptides_completed_sequence[\"Peptide Sequence\"]).value_counts()"
   ]
  },
  {
   "cell_type": "code",
   "execution_count": null,
   "metadata": {},
   "outputs": [],
   "source": [
    "# create regex pattern to identify desired modifications\n",
    "left_prefix_pattern = \"(.*)(\" + modifications_pattern + \")\"\n",
    "print(left_prefix_pattern)"
   ]
  },
  {
   "cell_type": "code",
   "execution_count": null,
   "metadata": {},
   "outputs": [],
   "source": [
    "# extract left prefix of modified methionine (for indexing purposes)\n",
    "IUPACCodes = \"ACDEFGHIKLMNPQRSTVWY\"\n",
    "filtering = lambda string: ''.join([char for char in string if char in IUPACCodes])\n",
    "\n",
    "peptides_completed_sequence[\"Left Prefix\"] = peptides_completed_sequence[\"Heavy Modified Peptide\"].str.extract(left_prefix_pattern)[0]\n",
    "peptides_completed_sequence[\"Left Prefix\"] = peptides_completed_sequence[\"Left Prefix\"].fillna(\"\")\n",
    "peptides_completed_sequence[\"Left Prefix\"] = peptides_completed_sequence[\"Left Prefix\"].map(filtering)\n",
    "peptides_completed_sequence[\"Left Prefix Length\"] = peptides_completed_sequence[\"Left Prefix\"].str.len()\n",
    "\n",
    "peptides_completed_sequence"
   ]
  },
  {
   "cell_type": "code",
   "execution_count": null,
   "metadata": {},
   "outputs": [],
   "source": [
    "peptides_completed_sequence[\"Methionine Location\"] = peptides_completed_sequence[\"Sequence Location\"] + peptides_completed_sequence[\"Left Prefix Length\"]\n",
    "peptides_completed_sequence"
   ]
  },
  {
   "cell_type": "code",
   "execution_count": null,
   "metadata": {},
   "outputs": [],
   "source": [
    "# Compute left/right analysis sequences based on threshold\n",
    "peptides_completed_sequence[f\"Left {analysis_threshold}\"] = [A[B-1-analysis_threshold:B-1]  if (B - 1 - analysis_threshold >= 0) else A[0:B-1] for A, B in zip(peptides_completed_sequence[\"Complete Sequence\"], peptides_completed_sequence[\"Methionine Location\"])]\n",
    "peptides_completed_sequence[f\"Right {analysis_threshold}\"] = [A[B+1:B+1+analysis_threshold] for A, B in zip(peptides_completed_sequence[\"Complete Sequence\"], peptides_completed_sequence[\"Methionine Location\"])]\n",
    "peptides_completed_sequence"
   ]
  },
  {
   "cell_type": "code",
   "execution_count": null,
   "metadata": {},
   "outputs": [],
   "source": [
    "temp = pd.Series([A[B] for A, B in zip(peptides_completed_sequence[\"Complete Sequence\"], peptides_completed_sequence[\"Methionine Location\"])])\n",
    "temp[temp != \"M\"]"
   ]
  },
  {
   "cell_type": "code",
   "execution_count": null,
   "metadata": {},
   "outputs": [],
   "source": [
    "peptides_completed_sequence.loc[953]"
   ]
  },
  {
   "cell_type": "code",
   "execution_count": null,
   "metadata": {},
   "outputs": [],
   "source": [
    "#peptides_completed_sequence.to_csv(os.path.join(datasets_path, \"hyperreactivity_model_completed_sequence_with_thresholds.csv\"))"
   ]
  },
  {
   "cell_type": "code",
   "execution_count": null,
   "metadata": {},
   "outputs": [],
   "source": [
    "path = os.path.join(datasets_path, \"hyperreactivity_model_completed_sequence_with_thresholds.csv\")\n",
    "peptides_completed_sequence = pd.read_csv(path)\n",
    "peptides_completed_sequence.set_index(\"Unnamed: 0\", inplace=True)\n",
    "peptides_completed_sequence.index.name = None\n",
    "peptides_completed_sequence"
   ]
  },
  {
   "cell_type": "markdown",
   "metadata": {},
   "source": [
    "# Download Alphafold Data - Labeled Methionines"
   ]
  },
  {
   "cell_type": "code",
   "execution_count": null,
   "metadata": {},
   "outputs": [],
   "source": [
    "# path for alphafold protein data\n",
    "alphafold_path_str = \"../alphafold_data/\"\n",
    "alphafold_path = os.path.abspath(alphafold_path_str)\n",
    "\n",
    "cif_dir = os.path.join(alphafold_path, \"cif\")\n",
    "pae_dir = os.path.join(alphafold_path, \"pae\")\n",
    "\n",
    "print(alphafold_path)\n",
    "print(cif_dir)\n",
    "print(pae_dir)"
   ]
  },
  {
   "cell_type": "code",
   "execution_count": null,
   "metadata": {},
   "outputs": [],
   "source": [
    "# set uniprot IDs to use\n",
    "uniprotIDs = peptides_completed_sequence[\"Protein ID\"].values\n",
    "uniprotIDs"
   ]
  },
  {
   "cell_type": "code",
   "execution_count": null,
   "metadata": {},
   "outputs": [],
   "source": [
    "# download cif data for proteins\n",
    "# SLOW THE FIRST TIME\n",
    "valid_proteins_cif, invalid_proteins_cif, existing_proteins_cif = download_alphafold_cif(\n",
    "    proteins=uniprotIDs,\n",
    "    out_folder=cif_dir\n",
    ")"
   ]
  },
  {
   "cell_type": "code",
   "execution_count": null,
   "metadata": {},
   "outputs": [],
   "source": [
    "# download pae data for proteins\n",
    "# SLOW THE FIRST TIME\n",
    "valid_proteins_pae, invalid_proteins_pae, existing_proteins_pae = download_alphafold_pae(\n",
    "    proteins=uniprotIDs,\n",
    "    out_folder=pae_dir, \n",
    ")"
   ]
  },
  {
   "cell_type": "markdown",
   "metadata": {},
   "source": [
    "## Construct Alphafold Dataframe (Calculate Accessibilities) - Labeled Methionines"
   ]
  },
  {
   "cell_type": "code",
   "execution_count": null,
   "metadata": {},
   "outputs": [],
   "source": [
    "# format alphafold data into dataframe\n",
    "alphafold_annotation = format_alphafold_data(\n",
    "    directory=cif_dir, \n",
    "    protein_ids=uniprotIDs)\n",
    "alphafold_annotation"
   ]
  },
  {
   "cell_type": "code",
   "execution_count": null,
   "metadata": {},
   "outputs": [],
   "source": [
    "# calculate full sphere exposure -> radius = 24\n",
    "full_sphere_exposure_24 = annotate_accessibility(\n",
    "    df=alphafold_annotation, \n",
    "    max_dist=24, \n",
    "    max_angle=180, \n",
    "    error_dir=pae_dir)\n",
    "full_sphere_exposure_24"
   ]
  },
  {
   "cell_type": "code",
   "execution_count": null,
   "metadata": {},
   "outputs": [],
   "source": [
    "alphafold_accessibility = alphafold_annotation.merge(\n",
    "    full_sphere_exposure_24, how='left', on=['protein_id','AA','position'])\n",
    "alphafold_accessibility"
   ]
  },
  {
   "cell_type": "code",
   "execution_count": null,
   "metadata": {},
   "outputs": [],
   "source": [
    "# calculate full sphere exposure -> angle = 70, radius = 12\n",
    "part_sphere_exposure = annotate_accessibility(\n",
    "    df=alphafold_annotation, \n",
    "    max_dist=12, \n",
    "    max_angle=70, \n",
    "    error_dir=pae_dir)\n",
    "part_sphere_exposure"
   ]
  },
  {
   "cell_type": "code",
   "execution_count": null,
   "metadata": {},
   "outputs": [],
   "source": [
    "alphafold_accessibility = alphafold_accessibility.merge(\n",
    "    part_sphere_exposure, how='left', on=['protein_id','AA','position'])\n",
    "alphafold_accessibility"
   ]
  },
  {
   "cell_type": "code",
   "execution_count": null,
   "metadata": {},
   "outputs": [],
   "source": [
    "# calculate full sphere exposure -> radius = 6\n",
    "full_sphere_exposure_6 = annotate_accessibility(\n",
    "    df=alphafold_annotation, \n",
    "    max_dist=6, \n",
    "    max_angle=180, \n",
    "    error_dir=pae_dir)\n",
    "full_sphere_exposure_6"
   ]
  },
  {
   "cell_type": "code",
   "execution_count": null,
   "metadata": {},
   "outputs": [],
   "source": [
    "alphafold_accessibility = alphafold_accessibility.merge(\n",
    "    full_sphere_exposure_6, how='left', on=['protein_id','AA','position'])\n",
    "alphafold_accessibility"
   ]
  },
  {
   "cell_type": "code",
   "execution_count": null,
   "metadata": {},
   "outputs": [],
   "source": [
    "# calculate full sphere exposure -> radius = 12\n",
    "full_sphere_exposure_12 = annotate_accessibility(\n",
    "    df=alphafold_annotation, \n",
    "    max_dist=12, \n",
    "    max_angle=180, \n",
    "    error_dir=pae_dir)\n",
    "full_sphere_exposure_12"
   ]
  },
  {
   "cell_type": "code",
   "execution_count": null,
   "metadata": {},
   "outputs": [],
   "source": [
    "alphafold_accessibility = alphafold_accessibility.merge(\n",
    "    full_sphere_exposure_12, how='left', on=['protein_id','AA','position'])\n",
    "alphafold_accessibility"
   ]
  },
  {
   "cell_type": "code",
   "execution_count": null,
   "metadata": {},
   "outputs": [],
   "source": [
    "# calculate full sphere exposure -> radius = 18\n",
    "full_sphere_exposure_18 = annotate_accessibility(\n",
    "    df=alphafold_annotation, \n",
    "    max_dist=18, \n",
    "    max_angle=180, \n",
    "    error_dir=pae_dir)\n",
    "full_sphere_exposure_18"
   ]
  },
  {
   "cell_type": "code",
   "execution_count": null,
   "metadata": {},
   "outputs": [],
   "source": [
    "alphafold_accessibility = alphafold_accessibility.merge(\n",
    "    full_sphere_exposure_18, how='left', on=['protein_id','AA','position'])\n",
    "alphafold_accessibility"
   ]
  },
  {
   "cell_type": "code",
   "execution_count": null,
   "metadata": {},
   "outputs": [],
   "source": [
    "alphafold_accessibility_smooth = get_smooth_score(\n",
    "    alphafold_accessibility, \n",
    "    np.array(['nAA_6_180_pae', 'nAA_12_180_pae', 'nAA_18_180_pae', 'nAA_24_180_pae']), \n",
    "    [10])\n",
    "alphafold_accessibility_smooth"
   ]
  },
  {
   "cell_type": "code",
   "execution_count": null,
   "metadata": {},
   "outputs": [],
   "source": [
    "alphafold_accessibility_smooth['IDR'] = np.where(\n",
    "    alphafold_accessibility_smooth['nAA_24_180_pae_smooth10']<=34.27, 1, 0)\n",
    "alphafold_accessibility_smooth"
   ]
  },
  {
   "cell_type": "markdown",
   "metadata": {},
   "source": [
    "# Merge Dataframes into Full Dataset (Includes Alphafold) - Labeled Methionines"
   ]
  },
  {
   "cell_type": "code",
   "execution_count": null,
   "metadata": {},
   "outputs": [],
   "source": [
    "alphafold_accessibility_smooth[\"position\"] -= 1 # zero-index the positions to match initial dataframe\n",
    "\n",
    "peptides_with_alphafold = peptides_completed_sequence.merge(\n",
    "    alphafold_accessibility_smooth, \n",
    "    how=\"left\", \n",
    "    left_on=[\"Protein ID\", \"Methionine Location\"], \n",
    "    right_on=[\"protein_id\", \"position\"]\n",
    ")\n",
    "peptides_with_alphafold"
   ]
  },
  {
   "cell_type": "code",
   "execution_count": null,
   "metadata": {},
   "outputs": [],
   "source": [
    "#peptides_with_alphafold.to_csv(os.path.join(datasets_path, \"RvsS_peptides_with_alphafold.csv\"))"
   ]
  },
  {
   "cell_type": "code",
   "execution_count": null,
   "metadata": {},
   "outputs": [],
   "source": [
    "path = os.path.join(datasets_path, \"RvsS_peptides_with_alphafold.csv\")\n",
    "peptides_with_alphafold = pd.read_csv(path)\n",
    "peptides_with_alphafold.set_index(\"Unnamed: 0\", inplace=True)\n",
    "peptides_with_alphafold.index.name = None\n",
    "peptides_with_alphafold"
   ]
  },
  {
   "cell_type": "markdown",
   "metadata": {},
   "source": [
    "# Load Dataset (MitoCarta3.0) - Full Mitochondrial Proteome"
   ]
  },
  {
   "cell_type": "code",
   "execution_count": null,
   "metadata": {},
   "outputs": [],
   "source": [
    "data_loc = os.path.join(datasets_path, \"Mouse.MitoCarta3.0.xls\")\n",
    "mitocarta3_0 = pd.read_excel(data_loc, sheet_name=\"A Mouse MitoCarta3.0\")\n",
    "mitocarta3_0"
   ]
  },
  {
   "cell_type": "code",
   "execution_count": null,
   "metadata": {},
   "outputs": [],
   "source": [
    "# calculate number of proteins in the mitochondrial proteome\n",
    "is_mitochondrial = (mitocarta3_0[\"HPA_Main_Location_2020 (Reliability)\"].str.contains(\"mitoch\", case=False))\n",
    "(is_mitochondrial == True).value_counts(dropna=False)"
   ]
  },
  {
   "cell_type": "code",
   "execution_count": null,
   "metadata": {},
   "outputs": [],
   "source": [
    "# ensure protein split was done correctly (correct mitoch... string matching)\n",
    "pd.set_option('display.max_rows', None)\n",
    "display(mitocarta3_0[is_mitochondrial == True][\"HPA_Main_Location_2020 (Reliability)\"].value_counts())\n",
    "pd.reset_option('display.max_rows')"
   ]
  },
  {
   "cell_type": "code",
   "execution_count": null,
   "metadata": {},
   "outputs": [],
   "source": [
    "# filter MitoCarta3.0 dataset to only include mitochondrial proteins\n",
    "mitocarta3_0_mitochondrial = mitocarta3_0[is_mitochondrial == True]\n",
    "mitocarta3_0_mitochondrial"
   ]
  },
  {
   "cell_type": "code",
   "execution_count": null,
   "metadata": {},
   "outputs": [],
   "source": [
    "mitocarta3_0_mitochondrial[\"UniProt\"].isna().value_counts()"
   ]
  },
  {
   "cell_type": "code",
   "execution_count": null,
   "metadata": {},
   "outputs": [],
   "source": [
    "# drop rows with NaN UniProt IDs (just one)\n",
    "mitocarta3_0_mitochondrial.dropna(subset=[\"UniProt\"], inplace=True)\n",
    "mitocarta3_0_mitochondrial"
   ]
  },
  {
   "cell_type": "code",
   "execution_count": null,
   "metadata": {},
   "outputs": [],
   "source": [
    "# get whole amino acid sequences for mitochondrial proteome\n",
    "# SLOW - ONLY DO THIS ONCE - CONVERT TO CSV FILE, THEN RE-LOAD FROM THAT FILE\n",
    "\n",
    "#tqdm.pandas()\n",
    "#mitocarta3_0_mitochondrial_completed_sequence = mitocarta3_0_mitochondrial.copy()\n",
    "#mitocarta3_0_mitochondrial_completed_sequence[\"Complete Sequence\"] = mitocarta3_0_mitochondrial_completed_sequence[\"UniProt\"].progress_apply(get_full_protein_seq)\n",
    "#mitocarta3_0_mitochondrial_completed_sequence"
   ]
  },
  {
   "cell_type": "code",
   "execution_count": null,
   "metadata": {},
   "outputs": [],
   "source": [
    "#mitocarta3_0_mitochondrial_completed_sequence.to_csv(os.path.join(datasets_path, \"RvsS_full_mitochondrial_completed_sequence.csv\"))"
   ]
  },
  {
   "cell_type": "code",
   "execution_count": null,
   "metadata": {},
   "outputs": [],
   "source": [
    "path = os.path.join(datasets_path, \"RvsS_full_mitochondrial_completed_sequence.csv\")\n",
    "mitocarta3_0_mitochondrial_completed_sequence = pd.read_csv(path)\n",
    "mitocarta3_0_mitochondrial_completed_sequence.set_index(\"Unnamed: 0\", inplace=True)\n",
    "mitocarta3_0_mitochondrial_completed_sequence.index.name = None\n",
    "mitocarta3_0_mitochondrial_completed_sequence"
   ]
  },
  {
   "cell_type": "code",
   "execution_count": null,
   "metadata": {},
   "outputs": [],
   "source": [
    "# NOTE: sequence length from database doesn't exactly match up with length of sequence as determined by UniProtID - weird\n",
    "(mitocarta3_0_mitochondrial_completed_sequence[\"ProteinLength\"] - mitocarta3_0_mitochondrial_completed_sequence[\"Complete Sequence\"].str.len()).value_counts()"
   ]
  },
  {
   "cell_type": "markdown",
   "metadata": {},
   "source": [
    "# Download Alphafold Data - Full Mitochondrial Proteome"
   ]
  },
  {
   "cell_type": "code",
   "execution_count": null,
   "metadata": {},
   "outputs": [],
   "source": [
    "# path for alphafold protein data\n",
    "alphafold_path_str = \"../alphafold_data/\"\n",
    "alphafold_path = os.path.abspath(alphafold_path_str)\n",
    "\n",
    "cif_dir = os.path.join(alphafold_path, \"cif\")\n",
    "pae_dir = os.path.join(alphafold_path, \"pae\")\n",
    "\n",
    "print(alphafold_path)\n",
    "print(cif_dir)\n",
    "print(pae_dir)"
   ]
  },
  {
   "cell_type": "code",
   "execution_count": null,
   "metadata": {},
   "outputs": [],
   "source": [
    "# NOTE: these IDs are invalid from anAalphafold perspective - they are the secondary UniProtIDs, which was fine for querying UniProt, but not Alphafold\n",
    "# so, manually impute these IDs with their primary ones\n",
    "# invalid_proteins_cif -> ['F7C846', 'Q9JLT4', 'Q3UW66', 'Q91XR9']\n",
    "\n",
    "replace_dict = {'F7C846': 'Q8R5C0', 'Q3UW66': 'Q99J99', 'Q91XR9': 'O70325'} \n",
    "# Q9JLT4 is weird - seems to be primary ID, but not in Alphafold\n",
    "# Q91XR9 / O70325 is weird - O70325 exists in UniProt, but not Alphafold\n",
    "\n",
    "mitocarta3_0_mitochondrial_completed_sequence[\"UniProt-Primary\"] = mitocarta3_0_mitochondrial_completed_sequence[\"UniProt\"].replace(replace_dict)\n",
    "mitocarta3_0_mitochondrial_completed_sequence = mitocarta3_0_mitochondrial_completed_sequence.drop(mitocarta3_0_mitochondrial_completed_sequence[mitocarta3_0_mitochondrial_completed_sequence[\"UniProt\"] == \"Q9JLT4\"].index)\n",
    "mitocarta3_0_mitochondrial_completed_sequence = mitocarta3_0_mitochondrial_completed_sequence.drop(mitocarta3_0_mitochondrial_completed_sequence[mitocarta3_0_mitochondrial_completed_sequence[\"UniProt-Primary\"] == \"O70325\"].index)"
   ]
  },
  {
   "cell_type": "code",
   "execution_count": null,
   "metadata": {},
   "outputs": [],
   "source": [
    "# set uniprot IDs to use\n",
    "uniprotIDs_fullproteome = mitocarta3_0_mitochondrial_completed_sequence[\"UniProt-Primary\"].values\n",
    "uniprotIDs_fullproteome"
   ]
  },
  {
   "cell_type": "code",
   "execution_count": null,
   "metadata": {},
   "outputs": [],
   "source": [
    "# download cif data for proteins\n",
    "# SLOW THE FIRST TIME\n",
    "valid_proteins_cif, invalid_proteins_cif, existing_proteins_cif = download_alphafold_cif(\n",
    "    proteins=uniprotIDs_fullproteome,\n",
    "    out_folder=cif_dir\n",
    ")"
   ]
  },
  {
   "cell_type": "code",
   "execution_count": null,
   "metadata": {},
   "outputs": [],
   "source": [
    "# download pae data for proteins\n",
    "# SLOW THE FIRST TIME\n",
    "valid_proteins_pae, invalid_proteins_pae, existing_proteins_pae = download_alphafold_pae(\n",
    "    proteins=uniprotIDs_fullproteome,\n",
    "    out_folder=pae_dir, \n",
    ")"
   ]
  },
  {
   "cell_type": "markdown",
   "metadata": {},
   "source": [
    "# Construct Alphafold Dataframe (Calculate Accessibilities) - Full Mitochondrial Proteome"
   ]
  },
  {
   "cell_type": "code",
   "execution_count": null,
   "metadata": {},
   "outputs": [],
   "source": [
    "# format alphafold data into dataframe\n",
    "alphafold_annotation_full = format_alphafold_data(\n",
    "    directory=cif_dir, \n",
    "    protein_ids=uniprotIDs_fullproteome)\n",
    "alphafold_annotation_full"
   ]
  },
  {
   "cell_type": "code",
   "execution_count": null,
   "metadata": {},
   "outputs": [],
   "source": [
    "# calculate full sphere exposure -> radius = 24\n",
    "full_sphere_exposure_24 = annotate_accessibility(\n",
    "    df=alphafold_annotation_full, \n",
    "    max_dist=24, \n",
    "    max_angle=180, \n",
    "    error_dir=pae_dir)\n",
    "full_sphere_exposure_24"
   ]
  },
  {
   "cell_type": "code",
   "execution_count": null,
   "metadata": {},
   "outputs": [],
   "source": [
    "alphafold_accessibility_full = alphafold_annotation_full.merge(\n",
    "    full_sphere_exposure_24, how='left', on=['protein_id','AA','position'])\n",
    "alphafold_accessibility_full"
   ]
  },
  {
   "cell_type": "code",
   "execution_count": null,
   "metadata": {},
   "outputs": [],
   "source": [
    "# calculate full sphere exposure -> angle = 70, radius = 12\n",
    "part_sphere_exposure = annotate_accessibility(\n",
    "    df=alphafold_annotation_full, \n",
    "    max_dist=12, \n",
    "    max_angle=70, \n",
    "    error_dir=pae_dir)\n",
    "part_sphere_exposure"
   ]
  },
  {
   "cell_type": "code",
   "execution_count": null,
   "metadata": {},
   "outputs": [],
   "source": [
    "alphafold_accessibility_full = alphafold_accessibility_full.merge(\n",
    "    part_sphere_exposure, how='left', on=['protein_id','AA','position'])\n",
    "alphafold_accessibility_full"
   ]
  },
  {
   "cell_type": "code",
   "execution_count": null,
   "metadata": {},
   "outputs": [],
   "source": [
    "# calculate full sphere exposure -> radius = 6\n",
    "full_sphere_exposure_6 = annotate_accessibility(\n",
    "    df=alphafold_annotation_full, \n",
    "    max_dist=6, \n",
    "    max_angle=180, \n",
    "    error_dir=pae_dir)\n",
    "full_sphere_exposure_6"
   ]
  },
  {
   "cell_type": "code",
   "execution_count": null,
   "metadata": {},
   "outputs": [],
   "source": [
    "alphafold_accessibility_full = alphafold_accessibility_full.merge(\n",
    "    full_sphere_exposure_6, how='left', on=['protein_id','AA','position'])\n",
    "alphafold_accessibility_full"
   ]
  },
  {
   "cell_type": "code",
   "execution_count": null,
   "metadata": {},
   "outputs": [],
   "source": [
    "# calculate full sphere exposure -> radius = 12\n",
    "full_sphere_exposure_12 = annotate_accessibility(\n",
    "    df=alphafold_annotation_full, \n",
    "    max_dist=12, \n",
    "    max_angle=180, \n",
    "    error_dir=pae_dir)\n",
    "full_sphere_exposure_12"
   ]
  },
  {
   "cell_type": "code",
   "execution_count": null,
   "metadata": {},
   "outputs": [],
   "source": [
    "alphafold_accessibility_full = alphafold_accessibility_full.merge(\n",
    "    full_sphere_exposure_12, how='left', on=['protein_id','AA','position'])\n",
    "alphafold_accessibility_full"
   ]
  },
  {
   "cell_type": "code",
   "execution_count": null,
   "metadata": {},
   "outputs": [],
   "source": [
    "# calculate full sphere exposure -> radius = 18\n",
    "full_sphere_exposure_18 = annotate_accessibility(\n",
    "    df=alphafold_annotation_full, \n",
    "    max_dist=18, \n",
    "    max_angle=180, \n",
    "    error_dir=pae_dir)\n",
    "full_sphere_exposure_18"
   ]
  },
  {
   "cell_type": "code",
   "execution_count": null,
   "metadata": {},
   "outputs": [],
   "source": [
    "alphafold_accessibility_full = alphafold_accessibility_full.merge(\n",
    "    full_sphere_exposure_18, how='left', on=['protein_id','AA','position'])\n",
    "alphafold_accessibility_full"
   ]
  },
  {
   "cell_type": "code",
   "execution_count": null,
   "metadata": {},
   "outputs": [],
   "source": [
    "alphafold_accessibility_full_smooth = get_smooth_score(\n",
    "    alphafold_accessibility_full, \n",
    "    np.array(['nAA_6_180_pae', 'nAA_12_180_pae', 'nAA_18_180_pae', 'nAA_24_180_pae']), \n",
    "    [10])\n",
    "alphafold_accessibility_full_smooth"
   ]
  },
  {
   "cell_type": "code",
   "execution_count": null,
   "metadata": {},
   "outputs": [],
   "source": [
    "alphafold_accessibility_full_smooth['IDR'] = np.where(\n",
    "    alphafold_accessibility_full_smooth['nAA_24_180_pae_smooth10']<=34.27, 1, 0)\n",
    "alphafold_accessibility_full_smooth"
   ]
  },
  {
   "cell_type": "markdown",
   "metadata": {},
   "source": [
    "# ????? Merge Dataframes into Full Dataset (Includes Alphafold) - Full Mitochondrial Proteome"
   ]
  },
  {
   "cell_type": "code",
   "execution_count": null,
   "metadata": {},
   "outputs": [],
   "source": [
    "# filter out table to only include methionines\n",
    "mitocarta3_0_methionines = alphafold_accessibility_full_smooth[alphafold_accessibility_full_smooth[\"AA\"] == \"M\"]\n",
    "mitocarta3_0_methionines"
   ]
  },
  {
   "cell_type": "code",
   "execution_count": null,
   "metadata": {},
   "outputs": [],
   "source": [
    "mitocarta3_0_methionines[\"position\"] = mitocarta3_0_methionines[\"position\"] - 1 # zero-index the positions to match initial dataframe\n",
    "\n",
    "mitocarta3_0_methionines_with_alphafold = mitocarta3_0_methionines.merge(\n",
    "    mitocarta3_0_mitochondrial_completed_sequence[[\"UniProt\", \"UniProt-Primary\", \"Complete Sequence\"]], \n",
    "    how=\"left\", \n",
    "    left_on=\"protein_id\", \n",
    "    right_on=\"UniProt-Primary\"\n",
    ")\n",
    "mitocarta3_0_methionines_with_alphafold"
   ]
  },
  {
   "cell_type": "code",
   "execution_count": null,
   "metadata": {},
   "outputs": [],
   "source": [
    "#mitocarta3_0_methionines_with_alphafold.to_csv(os.path.join(datasets_path, \"RvsS_full_mitochondrial_with_alphafold.csv\"))"
   ]
  },
  {
   "cell_type": "code",
   "execution_count": null,
   "metadata": {},
   "outputs": [],
   "source": [
    "path = os.path.join(datasets_path, \"RvsS_full_mitochondrial_with_alphafold.csv\")\n",
    "mitocarta3_0_methionines_with_alphafold = pd.read_csv(path)\n",
    "mitocarta3_0_methionines_with_alphafold.set_index(\"Unnamed: 0\", inplace=True)\n",
    "mitocarta3_0_methionines_with_alphafold.index.name = None\n",
    "mitocarta3_0_methionines_with_alphafold"
   ]
  }
 ],
 "metadata": {
  "kernelspec": {
   "display_name": "methionine-analysis-env",
   "language": "python",
   "name": "python3"
  },
  "language_info": {
   "codemirror_mode": {
    "name": "ipython",
    "version": 3
   },
   "file_extension": ".py",
   "mimetype": "text/x-python",
   "name": "python",
   "nbconvert_exporter": "python",
   "pygments_lexer": "ipython3",
   "version": "3.9.18"
  }
 },
 "nbformat": 4,
 "nbformat_minor": 2
}
