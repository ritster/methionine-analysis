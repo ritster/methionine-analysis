{
 "cells": [
  {
   "cell_type": "code",
   "execution_count": 1,
   "metadata": {},
   "outputs": [],
   "source": [
    "import pandas as pd "
   ]
  },
  {
   "cell_type": "code",
   "execution_count": 2,
   "metadata": {},
   "outputs": [
    {
     "data": {
      "text/html": [
       "<div>\n",
       "<style scoped>\n",
       "    .dataframe tbody tr th:only-of-type {\n",
       "        vertical-align: middle;\n",
       "    }\n",
       "\n",
       "    .dataframe tbody tr th {\n",
       "        vertical-align: top;\n",
       "    }\n",
       "\n",
       "    .dataframe thead th {\n",
       "        text-align: right;\n",
       "    }\n",
       "</style>\n",
       "<table border=\"1\" class=\"dataframe\">\n",
       "  <thead>\n",
       "    <tr style=\"text-align: right;\">\n",
       "      <th></th>\n",
       "      <th>Unnamed: 0</th>\n",
       "      <th>Peptide Sequence</th>\n",
       "      <th>Modified Peptide</th>\n",
       "      <th>Light Modified Peptide</th>\n",
       "      <th>Heavy Modified Peptide</th>\n",
       "      <th>1 Log2 Ratio HL</th>\n",
       "      <th>10 Log2 Ratio HL</th>\n",
       "      <th>11 Log2 Ratio HL</th>\n",
       "      <th>12 Log2 Ratio HL</th>\n",
       "      <th>2 Log2 Ratio HL</th>\n",
       "      <th>...</th>\n",
       "      <th>Log2HL avg</th>\n",
       "      <th>label</th>\n",
       "      <th>Complete Sequence</th>\n",
       "      <th>Sequence Location</th>\n",
       "      <th>Sequence Length</th>\n",
       "      <th>Left Prefix</th>\n",
       "      <th>Left Prefix Length</th>\n",
       "      <th>Methionine Location</th>\n",
       "      <th>Left 20</th>\n",
       "      <th>Right 20</th>\n",
       "    </tr>\n",
       "  </thead>\n",
       "  <tbody>\n",
       "    <tr>\n",
       "      <th>0</th>\n",
       "      <td>0</td>\n",
       "      <td>AADTIGYPVMIR</td>\n",
       "      <td>AADTIGYPVMIR</td>\n",
       "      <td>AADTIGYPVM[649.3660]IR</td>\n",
       "      <td>AADTIGYPVM[655.3735]IR</td>\n",
       "      <td>NaN</td>\n",
       "      <td>NaN</td>\n",
       "      <td>3.269016</td>\n",
       "      <td>NaN</td>\n",
       "      <td>NaN</td>\n",
       "      <td>...</td>\n",
       "      <td>3.289988</td>\n",
       "      <td>green</td>\n",
       "      <td>MTRILTACKVVKTLKSGFGFANVTTKRQWDFSRPGIRLLSVKAKTA...</td>\n",
       "      <td>575</td>\n",
       "      <td>12</td>\n",
       "      <td>AADTIGYPV</td>\n",
       "      <td>9</td>\n",
       "      <td>584</td>\n",
       "      <td>SFAVESMEDALKAADTIGYP</td>\n",
       "      <td>IRSAYALGGLGSGICPNKET</td>\n",
       "    </tr>\n",
       "    <tr>\n",
       "      <th>1</th>\n",
       "      <td>1</td>\n",
       "      <td>IAMQTLDMGR</td>\n",
       "      <td>IAMQTLDMGR</td>\n",
       "      <td>IAM[649.3660]QTLDMGR</td>\n",
       "      <td>IAM[655.3735]QTLDMGR</td>\n",
       "      <td>NaN</td>\n",
       "      <td>2.783695</td>\n",
       "      <td>3.114945</td>\n",
       "      <td>2.697822</td>\n",
       "      <td>NaN</td>\n",
       "      <td>...</td>\n",
       "      <td>2.789195</td>\n",
       "      <td>green</td>\n",
       "      <td>MAAALLARARGPLRRALGVRDWRRLHTVYQSVELPETHQMLRQTCR...</td>\n",
       "      <td>262</td>\n",
       "      <td>10</td>\n",
       "      <td>IA</td>\n",
       "      <td>2</td>\n",
       "      <td>264</td>\n",
       "      <td>EDCRIPKENLLGEPGMGFKI</td>\n",
       "      <td>QTLDMGRIGIASQALGIAQA</td>\n",
       "    </tr>\n",
       "    <tr>\n",
       "      <th>2</th>\n",
       "      <td>2</td>\n",
       "      <td>FVGAVDPIMEK</td>\n",
       "      <td>FVGAVDPIMEK</td>\n",
       "      <td>FVGAVDPIM[649.3660]EK</td>\n",
       "      <td>FVGAVDPIM[655.3735]EK</td>\n",
       "      <td>NaN</td>\n",
       "      <td>NaN</td>\n",
       "      <td>NaN</td>\n",
       "      <td>NaN</td>\n",
       "      <td>NaN</td>\n",
       "      <td>...</td>\n",
       "      <td>2.555706</td>\n",
       "      <td>green</td>\n",
       "      <td>MASESGKLWGGRFVGAVDPIMEKFNSSISYDRHLWNVDVQGSKAYS...</td>\n",
       "      <td>12</td>\n",
       "      <td>11</td>\n",
       "      <td>FVGAVDPI</td>\n",
       "      <td>8</td>\n",
       "      <td>20</td>\n",
       "      <td>MASESGKLWGGRFVGAVDP</td>\n",
       "      <td>EKFNSSISYDRHLWNVDVQG</td>\n",
       "    </tr>\n",
       "    <tr>\n",
       "      <th>3</th>\n",
       "      <td>3</td>\n",
       "      <td>QAQYLGMPINGPFKPDHYRY</td>\n",
       "      <td>QAQYLGMPINGPFKPDHYRY</td>\n",
       "      <td>QAQYLGM[649.3660]PINGPFKPDHYRY</td>\n",
       "      <td>QAQYLGM[655.3735]PINGPFKPDHYRY</td>\n",
       "      <td>2.394458</td>\n",
       "      <td>2.380664</td>\n",
       "      <td>2.682897</td>\n",
       "      <td>NaN</td>\n",
       "      <td>2.435014</td>\n",
       "      <td>...</td>\n",
       "      <td>2.538998</td>\n",
       "      <td>green</td>\n",
       "      <td>MSDKLPYKVADIGLAAWGRKALDIAENEMPGLMRMREMYSASKPLK...</td>\n",
       "      <td>412</td>\n",
       "      <td>20</td>\n",
       "      <td>QAQYLG</td>\n",
       "      <td>6</td>\n",
       "      <td>418</td>\n",
       "      <td>HLGKLNVKLTKLTEKQAQYL</td>\n",
       "      <td>PINGPFKPDHYRY</td>\n",
       "    </tr>\n",
       "    <tr>\n",
       "      <th>4</th>\n",
       "      <td>4</td>\n",
       "      <td>FADVIPMNLPHR</td>\n",
       "      <td>FADVIPMNLPHR</td>\n",
       "      <td>FADVIPM[649.3660]NLPHR</td>\n",
       "      <td>FADVIPM[655.3735]NLPHR</td>\n",
       "      <td>NaN</td>\n",
       "      <td>NaN</td>\n",
       "      <td>2.580647</td>\n",
       "      <td>NaN</td>\n",
       "      <td>2.446614</td>\n",
       "      <td>...</td>\n",
       "      <td>2.389057</td>\n",
       "      <td>green</td>\n",
       "      <td>MDGVSTAILLLLLAVISLSLTFSSRGKGQLPPGPKPLPILGNLLQL...</td>\n",
       "      <td>358</td>\n",
       "      <td>12</td>\n",
       "      <td>FADVIP</td>\n",
       "      <td>6</td>\n",
       "      <td>364</td>\n",
       "      <td>TSMPYTDAVIHEVQRFADVI</td>\n",
       "      <td>NLPHRVTRDTPFRGFLIPKG</td>\n",
       "    </tr>\n",
       "  </tbody>\n",
       "</table>\n",
       "<p>5 rows × 34 columns</p>\n",
       "</div>"
      ],
      "text/plain": [
       "   Unnamed: 0      Peptide Sequence      Modified Peptide  \\\n",
       "0           0          AADTIGYPVMIR          AADTIGYPVMIR   \n",
       "1           1            IAMQTLDMGR            IAMQTLDMGR   \n",
       "2           2           FVGAVDPIMEK           FVGAVDPIMEK   \n",
       "3           3  QAQYLGMPINGPFKPDHYRY  QAQYLGMPINGPFKPDHYRY   \n",
       "4           4          FADVIPMNLPHR          FADVIPMNLPHR   \n",
       "\n",
       "           Light Modified Peptide          Heavy Modified Peptide  \\\n",
       "0          AADTIGYPVM[649.3660]IR          AADTIGYPVM[655.3735]IR   \n",
       "1            IAM[649.3660]QTLDMGR            IAM[655.3735]QTLDMGR   \n",
       "2           FVGAVDPIM[649.3660]EK           FVGAVDPIM[655.3735]EK   \n",
       "3  QAQYLGM[649.3660]PINGPFKPDHYRY  QAQYLGM[655.3735]PINGPFKPDHYRY   \n",
       "4          FADVIPM[649.3660]NLPHR          FADVIPM[655.3735]NLPHR   \n",
       "\n",
       "   1 Log2 Ratio HL  10 Log2 Ratio HL  11 Log2 Ratio HL  12 Log2 Ratio HL  \\\n",
       "0              NaN               NaN          3.269016               NaN   \n",
       "1              NaN          2.783695          3.114945          2.697822   \n",
       "2              NaN               NaN               NaN               NaN   \n",
       "3         2.394458          2.380664          2.682897               NaN   \n",
       "4              NaN               NaN          2.580647               NaN   \n",
       "\n",
       "   2 Log2 Ratio HL  ...  Log2HL avg  label  \\\n",
       "0              NaN  ...    3.289988  green   \n",
       "1              NaN  ...    2.789195  green   \n",
       "2              NaN  ...    2.555706  green   \n",
       "3         2.435014  ...    2.538998  green   \n",
       "4         2.446614  ...    2.389057  green   \n",
       "\n",
       "                                   Complete Sequence  Sequence Location  \\\n",
       "0  MTRILTACKVVKTLKSGFGFANVTTKRQWDFSRPGIRLLSVKAKTA...                575   \n",
       "1  MAAALLARARGPLRRALGVRDWRRLHTVYQSVELPETHQMLRQTCR...                262   \n",
       "2  MASESGKLWGGRFVGAVDPIMEKFNSSISYDRHLWNVDVQGSKAYS...                 12   \n",
       "3  MSDKLPYKVADIGLAAWGRKALDIAENEMPGLMRMREMYSASKPLK...                412   \n",
       "4  MDGVSTAILLLLLAVISLSLTFSSRGKGQLPPGPKPLPILGNLLQL...                358   \n",
       "\n",
       "   Sequence Length  Left Prefix  Left Prefix Length Methionine Location  \\\n",
       "0               12    AADTIGYPV                   9                 584   \n",
       "1               10           IA                   2                 264   \n",
       "2               11     FVGAVDPI                   8                  20   \n",
       "3               20       QAQYLG                   6                 418   \n",
       "4               12       FADVIP                   6                 364   \n",
       "\n",
       "                Left 20              Right 20  \n",
       "0  SFAVESMEDALKAADTIGYP  IRSAYALGGLGSGICPNKET  \n",
       "1  EDCRIPKENLLGEPGMGFKI  QTLDMGRIGIASQALGIAQA  \n",
       "2   MASESGKLWGGRFVGAVDP  EKFNSSISYDRHLWNVDVQG  \n",
       "3  HLGKLNVKLTKLTEKQAQYL         PINGPFKPDHYRY  \n",
       "4  TSMPYTDAVIHEVQRFADVI  NLPHRVTRDTPFRGFLIPKG  \n",
       "\n",
       "[5 rows x 34 columns]"
      ]
     },
     "execution_count": 2,
     "metadata": {},
     "output_type": "execute_result"
    }
   ],
   "source": [
    "data_path = \"../datasets/\" \n",
    "df = pd.read_csv(data_path + 'RvsS_peptides_completed_sequence_with_thresholds.csv')\n",
    "\n",
    "df.head(5)"
   ]
  },
  {
   "cell_type": "code",
   "execution_count": 10,
   "metadata": {},
   "outputs": [],
   "source": [
    "left, right = df['Left 20'].values, df['Right 20'].values"
   ]
  },
  {
   "cell_type": "code",
   "execution_count": 38,
   "metadata": {},
   "outputs": [
    {
     "name": "stdout",
     "output_type": "stream",
     "text": [
      "2\n",
      "7\n",
      "25\n",
      "49\n",
      "73\n",
      "79\n",
      "87\n",
      "104\n",
      "113\n",
      "118\n",
      "144\n",
      "146\n",
      "147\n",
      "190 203\n"
     ]
    }
   ],
   "source": [
    "total_left = 0\n",
    "\n",
    "for i in range(len(left)):\n",
    "    if len(left[i]) == 20:\n",
    "        total_left += 1\n",
    "    else:\n",
    "        print(i)\n",
    "\n",
    "print(total_left, len(left))\n",
    "    "
   ]
  },
  {
   "cell_type": "code",
   "execution_count": 39,
   "metadata": {},
   "outputs": [
    {
     "name": "stdout",
     "output_type": "stream",
     "text": [
      "3\n",
      "12\n",
      "18\n",
      "66\n",
      "85\n",
      "86\n",
      "94\n",
      "97\n",
      "109\n",
      "110\n",
      "111\n",
      "131\n",
      "137\n",
      "140\n",
      "143\n",
      "170\n",
      "173\n",
      "179\n",
      "181\n",
      "190\n",
      "192\n",
      "182 203\n"
     ]
    }
   ],
   "source": [
    "total_right = 0\n",
    "\n",
    "for i in range(len(right)):\n",
    "    if len(right[i]) == 20:\n",
    "        total_right += 1\n",
    "    else:\n",
    "        print(i)\n",
    "\n",
    "print(total_right, len(right))"
   ]
  },
  {
   "cell_type": "code",
   "execution_count": 43,
   "metadata": {},
   "outputs": [
    {
     "data": {
      "text/plain": [
       "16"
      ]
     },
     "execution_count": 43,
     "metadata": {},
     "output_type": "execute_result"
    }
   ],
   "source": [
    "len(right[18])"
   ]
  },
  {
   "cell_type": "code",
   "execution_count": 58,
   "metadata": {},
   "outputs": [],
   "source": [
    "df['Left 20'].values[0][-5:]\n",
    "\n",
    "left_5, left_10, left_15, left_20 = [], [], [], []\n",
    "\n",
    "for left_protein in left:\n",
    "    left_5.append(left_protein[-5:])\n",
    "    left_10.append(left_protein[-10:])\n",
    "    left_15.append(left_protein[-15:])\n",
    "    left_20.append(left_protein)"
   ]
  },
  {
   "cell_type": "code",
   "execution_count": 59,
   "metadata": {},
   "outputs": [],
   "source": [
    "right_5, right_10, right_15, right_20 = [], [], [], []\n",
    "\n",
    "for right_protein in right:\n",
    "    right_5.append(right_protein[:5])\n",
    "    right_10.append(right_protein[:10])\n",
    "    right_15.append(right_protein[:15])\n",
    "    right_20.append(right_protein)"
   ]
  },
  {
   "cell_type": "code",
   "execution_count": 60,
   "metadata": {},
   "outputs": [],
   "source": [
    "left_5[0] + 'M' + right_5[0]\n",
    "\n",
    "pro_5, pro_10, pro_15, pro_20 = [], [], [], []\n",
    "\n",
    "for i in range(len(left)):\n",
    "    mod = 'M'\n",
    "    pro_5.append(left_5[i] + mod + right_5[i])\n",
    "    pro_10.append(left_10[i] + mod + right_10[i])\n",
    "    pro_15.append(left_15[i] + mod + right_15[i])\n",
    "    pro_20.append(left_20[i] + mod + right_20[i])"
   ]
  },
  {
   "cell_type": "code",
   "execution_count": 61,
   "metadata": {},
   "outputs": [
    {
     "data": {
      "text/plain": [
       "21"
      ]
     },
     "execution_count": 61,
     "metadata": {},
     "output_type": "execute_result"
    }
   ],
   "source": [
    "len(pro_10[0])"
   ]
  },
  {
   "cell_type": "code",
   "execution_count": 62,
   "metadata": {},
   "outputs": [],
   "source": [
    "pro_5t, pro_10t, pro_15t, pro_20t = [], [], [], []\n",
    "\n",
    "for i in range(len(left)):\n",
    "    if len(pro_5[i]) == 11:\n",
    "        pro_5t.append(pro_5[i])\n",
    "    if len(pro_10[i]) == 21:\n",
    "        pro_10t.append(pro_10[i])\n",
    "    if len(pro_15[i]) == 31:\n",
    "        pro_15t.append(pro_15[i])\n",
    "    if len(pro_20[i]) == 41:\n",
    "        pro_20t.append(pro_20[i])"
   ]
  },
  {
   "cell_type": "code",
   "execution_count": 70,
   "metadata": {},
   "outputs": [
    {
     "name": "stdout",
     "output_type": "stream",
     "text": [
      "203 201\n"
     ]
    }
   ],
   "source": [
    "print(len(pro_5), len(pro_5t))"
   ]
  },
  {
   "cell_type": "code",
   "execution_count": 71,
   "metadata": {},
   "outputs": [],
   "source": [
    "with open('pro_5t.txt', 'w') as f:\n",
    "    # Iterate over the array elements\n",
    "    for item in pro_5t:\n",
    "        # Write each element to the file\n",
    "        f.write(str(item) + '\\n')"
   ]
  },
  {
   "cell_type": "code",
   "execution_count": 72,
   "metadata": {},
   "outputs": [],
   "source": [
    "with open('pro_10t.txt', 'w') as f:\n",
    "    # Iterate over the array elements\n",
    "    for item in pro_10t:\n",
    "        # Write each element to the file\n",
    "        f.write(str(item) + '\\n')"
   ]
  },
  {
   "cell_type": "code",
   "execution_count": 73,
   "metadata": {},
   "outputs": [],
   "source": [
    "with open('pro_15t.txt', 'w') as f:\n",
    "    # Iterate over the array elements\n",
    "    for item in pro_15t:\n",
    "        # Write each element to the file\n",
    "        f.write(str(item) + '\\n')"
   ]
  },
  {
   "cell_type": "code",
   "execution_count": 74,
   "metadata": {},
   "outputs": [],
   "source": [
    "with open('pro_20t.txt', 'w') as f:\n",
    "    # Iterate over the array elements\n",
    "    for item in pro_20t:\n",
    "        # Write each element to the file\n",
    "        f.write(str(item) + '\\n')"
   ]
  },
  {
   "cell_type": "code",
   "execution_count": null,
   "metadata": {},
   "outputs": [],
   "source": []
  }
 ],
 "metadata": {
  "kernelspec": {
   "display_name": "Python 3",
   "language": "python",
   "name": "python3"
  },
  "language_info": {
   "codemirror_mode": {
    "name": "ipython",
    "version": 3
   },
   "file_extension": ".py",
   "mimetype": "text/x-python",
   "name": "python",
   "nbconvert_exporter": "python",
   "pygments_lexer": "ipython3",
   "version": "3.8.9"
  },
  "orig_nbformat": 4
 },
 "nbformat": 4,
 "nbformat_minor": 2
}
